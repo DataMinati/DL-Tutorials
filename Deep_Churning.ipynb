{
  "nbformat": 4,
  "nbformat_minor": 0,
  "metadata": {
    "colab": {
      "name": "Deep Churning.ipynb",
      "provenance": [],
      "authorship_tag": "ABX9TyMEoHLtOH8gGgKymlG4m02z",
      "include_colab_link": true
    },
    "kernelspec": {
      "name": "python3",
      "display_name": "Python 3"
    },
    "language_info": {
      "name": "python"
    }
  },
  "cells": [
    {
      "cell_type": "markdown",
      "metadata": {
        "id": "view-in-github",
        "colab_type": "text"
      },
      "source": [
        "<a href=\"https://colab.research.google.com/github/DataMinati/DL-Sena/blob/main/Deep_Churning.ipynb\" target=\"_parent\"><img src=\"https://colab.research.google.com/assets/colab-badge.svg\" alt=\"Open In Colab\"/></a>"
      ]
    },
    {
      "cell_type": "code",
      "metadata": {
        "id": "3TUPCxIIPbXl"
      },
      "source": [
        "import pandas as pd\n",
        "import numpy as np\n",
        "import matplotlib.pyplot as plt"
      ],
      "execution_count": 2,
      "outputs": []
    },
    {
      "cell_type": "code",
      "metadata": {
        "colab": {
          "base_uri": "https://localhost:8080/",
          "height": 356
        },
        "id": "OXIPRGd0Pmaj",
        "outputId": "1abbac56-0331-4f3e-9193-bb86e2a59836"
      },
      "source": [
        "df= pd.read_csv(\"https://raw.githubusercontent.com/DataMinati/Datasets-/master/Churn%20Modeling.csv\")\n",
        "df.head(10)"
      ],
      "execution_count": 4,
      "outputs": [
        {
          "output_type": "execute_result",
          "data": {
            "text/html": [
              "<div>\n",
              "<style scoped>\n",
              "    .dataframe tbody tr th:only-of-type {\n",
              "        vertical-align: middle;\n",
              "    }\n",
              "\n",
              "    .dataframe tbody tr th {\n",
              "        vertical-align: top;\n",
              "    }\n",
              "\n",
              "    .dataframe thead th {\n",
              "        text-align: right;\n",
              "    }\n",
              "</style>\n",
              "<table border=\"1\" class=\"dataframe\">\n",
              "  <thead>\n",
              "    <tr style=\"text-align: right;\">\n",
              "      <th></th>\n",
              "      <th>RowNumber</th>\n",
              "      <th>CustomerId</th>\n",
              "      <th>Surname</th>\n",
              "      <th>CreditScore</th>\n",
              "      <th>Geography</th>\n",
              "      <th>Gender</th>\n",
              "      <th>Age</th>\n",
              "      <th>Tenure</th>\n",
              "      <th>Balance</th>\n",
              "      <th>NumOfProducts</th>\n",
              "      <th>HasCrCard</th>\n",
              "      <th>IsActiveMember</th>\n",
              "      <th>EstimatedSalary</th>\n",
              "      <th>Exited</th>\n",
              "    </tr>\n",
              "  </thead>\n",
              "  <tbody>\n",
              "    <tr>\n",
              "      <th>0</th>\n",
              "      <td>1</td>\n",
              "      <td>15634602</td>\n",
              "      <td>Hargrave</td>\n",
              "      <td>619</td>\n",
              "      <td>France</td>\n",
              "      <td>Female</td>\n",
              "      <td>42</td>\n",
              "      <td>2</td>\n",
              "      <td>0.00</td>\n",
              "      <td>1</td>\n",
              "      <td>1</td>\n",
              "      <td>1</td>\n",
              "      <td>101348.88</td>\n",
              "      <td>1</td>\n",
              "    </tr>\n",
              "    <tr>\n",
              "      <th>1</th>\n",
              "      <td>2</td>\n",
              "      <td>15647311</td>\n",
              "      <td>Hill</td>\n",
              "      <td>608</td>\n",
              "      <td>Spain</td>\n",
              "      <td>Female</td>\n",
              "      <td>41</td>\n",
              "      <td>1</td>\n",
              "      <td>83807.86</td>\n",
              "      <td>1</td>\n",
              "      <td>0</td>\n",
              "      <td>1</td>\n",
              "      <td>112542.58</td>\n",
              "      <td>0</td>\n",
              "    </tr>\n",
              "    <tr>\n",
              "      <th>2</th>\n",
              "      <td>3</td>\n",
              "      <td>15619304</td>\n",
              "      <td>Onio</td>\n",
              "      <td>502</td>\n",
              "      <td>France</td>\n",
              "      <td>Female</td>\n",
              "      <td>42</td>\n",
              "      <td>8</td>\n",
              "      <td>159660.80</td>\n",
              "      <td>3</td>\n",
              "      <td>1</td>\n",
              "      <td>0</td>\n",
              "      <td>113931.57</td>\n",
              "      <td>1</td>\n",
              "    </tr>\n",
              "    <tr>\n",
              "      <th>3</th>\n",
              "      <td>4</td>\n",
              "      <td>15701354</td>\n",
              "      <td>Boni</td>\n",
              "      <td>699</td>\n",
              "      <td>France</td>\n",
              "      <td>Female</td>\n",
              "      <td>39</td>\n",
              "      <td>1</td>\n",
              "      <td>0.00</td>\n",
              "      <td>2</td>\n",
              "      <td>0</td>\n",
              "      <td>0</td>\n",
              "      <td>93826.63</td>\n",
              "      <td>0</td>\n",
              "    </tr>\n",
              "    <tr>\n",
              "      <th>4</th>\n",
              "      <td>5</td>\n",
              "      <td>15737888</td>\n",
              "      <td>Mitchell</td>\n",
              "      <td>850</td>\n",
              "      <td>Spain</td>\n",
              "      <td>Female</td>\n",
              "      <td>43</td>\n",
              "      <td>2</td>\n",
              "      <td>125510.82</td>\n",
              "      <td>1</td>\n",
              "      <td>1</td>\n",
              "      <td>1</td>\n",
              "      <td>79084.10</td>\n",
              "      <td>0</td>\n",
              "    </tr>\n",
              "    <tr>\n",
              "      <th>5</th>\n",
              "      <td>6</td>\n",
              "      <td>15574012</td>\n",
              "      <td>Chu</td>\n",
              "      <td>645</td>\n",
              "      <td>Spain</td>\n",
              "      <td>Male</td>\n",
              "      <td>44</td>\n",
              "      <td>8</td>\n",
              "      <td>113755.78</td>\n",
              "      <td>2</td>\n",
              "      <td>1</td>\n",
              "      <td>0</td>\n",
              "      <td>149756.71</td>\n",
              "      <td>1</td>\n",
              "    </tr>\n",
              "    <tr>\n",
              "      <th>6</th>\n",
              "      <td>7</td>\n",
              "      <td>15592531</td>\n",
              "      <td>Bartlett</td>\n",
              "      <td>822</td>\n",
              "      <td>France</td>\n",
              "      <td>Male</td>\n",
              "      <td>50</td>\n",
              "      <td>7</td>\n",
              "      <td>0.00</td>\n",
              "      <td>2</td>\n",
              "      <td>1</td>\n",
              "      <td>1</td>\n",
              "      <td>10062.80</td>\n",
              "      <td>0</td>\n",
              "    </tr>\n",
              "    <tr>\n",
              "      <th>7</th>\n",
              "      <td>8</td>\n",
              "      <td>15656148</td>\n",
              "      <td>Obinna</td>\n",
              "      <td>376</td>\n",
              "      <td>Germany</td>\n",
              "      <td>Female</td>\n",
              "      <td>29</td>\n",
              "      <td>4</td>\n",
              "      <td>115046.74</td>\n",
              "      <td>4</td>\n",
              "      <td>1</td>\n",
              "      <td>0</td>\n",
              "      <td>119346.88</td>\n",
              "      <td>1</td>\n",
              "    </tr>\n",
              "    <tr>\n",
              "      <th>8</th>\n",
              "      <td>9</td>\n",
              "      <td>15792365</td>\n",
              "      <td>He</td>\n",
              "      <td>501</td>\n",
              "      <td>France</td>\n",
              "      <td>Male</td>\n",
              "      <td>44</td>\n",
              "      <td>4</td>\n",
              "      <td>142051.07</td>\n",
              "      <td>2</td>\n",
              "      <td>0</td>\n",
              "      <td>1</td>\n",
              "      <td>74940.50</td>\n",
              "      <td>0</td>\n",
              "    </tr>\n",
              "    <tr>\n",
              "      <th>9</th>\n",
              "      <td>10</td>\n",
              "      <td>15592389</td>\n",
              "      <td>H?</td>\n",
              "      <td>684</td>\n",
              "      <td>France</td>\n",
              "      <td>Male</td>\n",
              "      <td>27</td>\n",
              "      <td>2</td>\n",
              "      <td>134603.88</td>\n",
              "      <td>1</td>\n",
              "      <td>1</td>\n",
              "      <td>1</td>\n",
              "      <td>71725.73</td>\n",
              "      <td>0</td>\n",
              "    </tr>\n",
              "  </tbody>\n",
              "</table>\n",
              "</div>"
            ],
            "text/plain": [
              "   RowNumber  CustomerId   Surname  ...  IsActiveMember EstimatedSalary Exited\n",
              "0          1    15634602  Hargrave  ...               1       101348.88      1\n",
              "1          2    15647311      Hill  ...               1       112542.58      0\n",
              "2          3    15619304      Onio  ...               0       113931.57      1\n",
              "3          4    15701354      Boni  ...               0        93826.63      0\n",
              "4          5    15737888  Mitchell  ...               1        79084.10      0\n",
              "5          6    15574012       Chu  ...               0       149756.71      1\n",
              "6          7    15592531  Bartlett  ...               1        10062.80      0\n",
              "7          8    15656148    Obinna  ...               0       119346.88      1\n",
              "8          9    15792365        He  ...               1        74940.50      0\n",
              "9         10    15592389        H?  ...               1        71725.73      0\n",
              "\n",
              "[10 rows x 14 columns]"
            ]
          },
          "metadata": {},
          "execution_count": 4
        }
      ]
    },
    {
      "cell_type": "code",
      "metadata": {
        "id": "CktpCjsfPnzn"
      },
      "source": [
        "x = df.iloc[:,3:-1]\n",
        "y=df[\"Exited\"]"
      ],
      "execution_count": 5,
      "outputs": []
    },
    {
      "cell_type": "code",
      "metadata": {
        "id": "UtMohX-wPskq"
      },
      "source": [
        "x['Gender']=pd.get_dummies(df.Gender, drop_first=True)\n",
        "geo=pd.get_dummies(df.Geography, drop_first=False)\n",
        "x=pd.concat([x,geo],axis=1)"
      ],
      "execution_count": 6,
      "outputs": []
    },
    {
      "cell_type": "code",
      "metadata": {
        "colab": {
          "base_uri": "https://localhost:8080/"
        },
        "id": "IfIfO4_RPvRN",
        "outputId": "61c1b61f-a393-497c-be1e-033eb2a80d4d"
      },
      "source": [
        "x.drop(\"Geography\",axis=1,inplace=True)\n",
        "x.info()"
      ],
      "execution_count": 7,
      "outputs": [
        {
          "output_type": "stream",
          "text": [
            "<class 'pandas.core.frame.DataFrame'>\n",
            "RangeIndex: 10000 entries, 0 to 9999\n",
            "Data columns (total 12 columns):\n",
            " #   Column           Non-Null Count  Dtype  \n",
            "---  ------           --------------  -----  \n",
            " 0   CreditScore      10000 non-null  int64  \n",
            " 1   Gender           10000 non-null  uint8  \n",
            " 2   Age              10000 non-null  int64  \n",
            " 3   Tenure           10000 non-null  int64  \n",
            " 4   Balance          10000 non-null  float64\n",
            " 5   NumOfProducts    10000 non-null  int64  \n",
            " 6   HasCrCard        10000 non-null  int64  \n",
            " 7   IsActiveMember   10000 non-null  int64  \n",
            " 8   EstimatedSalary  10000 non-null  float64\n",
            " 9   France           10000 non-null  uint8  \n",
            " 10  Germany          10000 non-null  uint8  \n",
            " 11  Spain            10000 non-null  uint8  \n",
            "dtypes: float64(2), int64(6), uint8(4)\n",
            "memory usage: 664.2 KB\n"
          ],
          "name": "stdout"
        }
      ]
    },
    {
      "cell_type": "code",
      "metadata": {
        "id": "zZn25bMTPxBH"
      },
      "source": [
        "from sklearn.preprocessing import StandardScaler\n",
        "scaler = StandardScaler()\n",
        "x=scaler.fit_transform(x)"
      ],
      "execution_count": 8,
      "outputs": []
    },
    {
      "cell_type": "code",
      "metadata": {
        "id": "OGzreGofPzBh"
      },
      "source": [
        "from sklearn.model_selection import train_test_split\n",
        "xtrain, xtest, ytrain, ytest = train_test_split(x, y, test_size=0.33, random_state=42)"
      ],
      "execution_count": 9,
      "outputs": []
    },
    {
      "cell_type": "code",
      "metadata": {
        "id": "v3r5HrPUP4mt"
      },
      "source": [
        "import keras\n",
        "from keras.models import Sequential\n",
        "from keras.layers import Dense\n",
        "from keras.layers import Dropout"
      ],
      "execution_count": 10,
      "outputs": []
    },
    {
      "cell_type": "code",
      "metadata": {
        "id": "vS_PD4UEQR74"
      },
      "source": [
        "#initialising the ANN\n",
        "ann =Sequential()"
      ],
      "execution_count": 11,
      "outputs": []
    },
    {
      "cell_type": "code",
      "metadata": {
        "colab": {
          "base_uri": "https://localhost:8080/"
        },
        "id": "H3B29DmzQUb9",
        "outputId": "5f0d9a69-dd16-40ad-e05d-314233e1195c"
      },
      "source": [
        "#adding the input layer and first hidden layer\n",
        "ann.add(Dense(units=6,kernel_initializer=\"he_uniform\",activation=\"relu\",input_dim=12))\n",
        "#adding the second hidden layer\n",
        "ann.add(Dense(units=6,kernel_initializer=\"he_uniform\",activation=\"relu\"))\n",
        "#adding the last hidden layer\n",
        "ann.add(Dense(units=1,kernel_initializer=\"glorot_uniform\",activation=\"sigmoid\"))\n",
        "ann.compile(optimizer=\"adam\",loss=\"binary_crossentropy\",metrics=[\"accuracy\"])\n",
        "fitted_model=ann.fit(xtrain,ytrain,validation_split=0.4,batch_size=10,epochs=100)"
      ],
      "execution_count": 12,
      "outputs": [
        {
          "output_type": "stream",
          "text": [
            "Epoch 1/100\n",
            "402/402 [==============================] - 2s 2ms/step - loss: 0.9610 - accuracy: 0.4104 - val_loss: 0.6525 - val_accuracy: 0.6821\n",
            "Epoch 2/100\n",
            "402/402 [==============================] - 1s 2ms/step - loss: 0.5647 - accuracy: 0.7562 - val_loss: 0.5108 - val_accuracy: 0.7907\n",
            "Epoch 3/100\n",
            "402/402 [==============================] - 1s 2ms/step - loss: 0.4928 - accuracy: 0.7920 - val_loss: 0.4765 - val_accuracy: 0.7918\n",
            "Epoch 4/100\n",
            "402/402 [==============================] - 1s 2ms/step - loss: 0.4622 - accuracy: 0.7948 - val_loss: 0.4541 - val_accuracy: 0.7925\n",
            "Epoch 5/100\n",
            "402/402 [==============================] - 1s 2ms/step - loss: 0.4381 - accuracy: 0.8005 - val_loss: 0.4329 - val_accuracy: 0.7981\n",
            "Epoch 6/100\n",
            "402/402 [==============================] - 1s 2ms/step - loss: 0.4150 - accuracy: 0.8109 - val_loss: 0.4128 - val_accuracy: 0.8086\n",
            "Epoch 7/100\n",
            "402/402 [==============================] - 1s 2ms/step - loss: 0.3959 - accuracy: 0.8199 - val_loss: 0.3998 - val_accuracy: 0.8224\n",
            "Epoch 8/100\n",
            "402/402 [==============================] - 1s 2ms/step - loss: 0.3827 - accuracy: 0.8336 - val_loss: 0.3917 - val_accuracy: 0.8340\n",
            "Epoch 9/100\n",
            "402/402 [==============================] - 1s 2ms/step - loss: 0.3733 - accuracy: 0.8423 - val_loss: 0.3849 - val_accuracy: 0.8366\n",
            "Epoch 10/100\n",
            "402/402 [==============================] - 1s 2ms/step - loss: 0.3675 - accuracy: 0.8453 - val_loss: 0.3815 - val_accuracy: 0.8377\n",
            "Epoch 11/100\n",
            "402/402 [==============================] - 1s 2ms/step - loss: 0.3626 - accuracy: 0.8517 - val_loss: 0.3794 - val_accuracy: 0.8354\n",
            "Epoch 12/100\n",
            "402/402 [==============================] - 1s 2ms/step - loss: 0.3598 - accuracy: 0.8483 - val_loss: 0.3766 - val_accuracy: 0.8392\n",
            "Epoch 13/100\n",
            "402/402 [==============================] - 1s 2ms/step - loss: 0.3573 - accuracy: 0.8495 - val_loss: 0.3742 - val_accuracy: 0.8407\n",
            "Epoch 14/100\n",
            "402/402 [==============================] - 1s 2ms/step - loss: 0.3552 - accuracy: 0.8507 - val_loss: 0.3732 - val_accuracy: 0.8403\n",
            "Epoch 15/100\n",
            "402/402 [==============================] - 1s 2ms/step - loss: 0.3539 - accuracy: 0.8527 - val_loss: 0.3723 - val_accuracy: 0.8425\n",
            "Epoch 16/100\n",
            "402/402 [==============================] - 1s 2ms/step - loss: 0.3522 - accuracy: 0.8522 - val_loss: 0.3722 - val_accuracy: 0.8422\n",
            "Epoch 17/100\n",
            "402/402 [==============================] - 1s 2ms/step - loss: 0.3511 - accuracy: 0.8525 - val_loss: 0.3707 - val_accuracy: 0.8407\n",
            "Epoch 18/100\n",
            "402/402 [==============================] - 1s 2ms/step - loss: 0.3503 - accuracy: 0.8527 - val_loss: 0.3702 - val_accuracy: 0.8410\n",
            "Epoch 19/100\n",
            "402/402 [==============================] - 1s 2ms/step - loss: 0.3491 - accuracy: 0.8552 - val_loss: 0.3695 - val_accuracy: 0.8422\n",
            "Epoch 20/100\n",
            "402/402 [==============================] - 1s 2ms/step - loss: 0.3484 - accuracy: 0.8535 - val_loss: 0.3691 - val_accuracy: 0.8440\n",
            "Epoch 21/100\n",
            "402/402 [==============================] - 1s 2ms/step - loss: 0.3476 - accuracy: 0.8552 - val_loss: 0.3686 - val_accuracy: 0.8437\n",
            "Epoch 22/100\n",
            "402/402 [==============================] - 1s 2ms/step - loss: 0.3473 - accuracy: 0.8552 - val_loss: 0.3676 - val_accuracy: 0.8433\n",
            "Epoch 23/100\n",
            "402/402 [==============================] - 1s 2ms/step - loss: 0.3463 - accuracy: 0.8555 - val_loss: 0.3678 - val_accuracy: 0.8425\n",
            "Epoch 24/100\n",
            "402/402 [==============================] - 1s 2ms/step - loss: 0.3461 - accuracy: 0.8562 - val_loss: 0.3674 - val_accuracy: 0.8422\n",
            "Epoch 25/100\n",
            "402/402 [==============================] - 1s 2ms/step - loss: 0.3454 - accuracy: 0.8552 - val_loss: 0.3679 - val_accuracy: 0.8414\n",
            "Epoch 26/100\n",
            "402/402 [==============================] - 1s 2ms/step - loss: 0.3447 - accuracy: 0.8580 - val_loss: 0.3665 - val_accuracy: 0.8455\n",
            "Epoch 27/100\n",
            "402/402 [==============================] - 1s 2ms/step - loss: 0.3438 - accuracy: 0.8580 - val_loss: 0.3665 - val_accuracy: 0.8425\n",
            "Epoch 28/100\n",
            "402/402 [==============================] - 1s 2ms/step - loss: 0.3439 - accuracy: 0.8565 - val_loss: 0.3659 - val_accuracy: 0.8440\n",
            "Epoch 29/100\n",
            "402/402 [==============================] - 1s 2ms/step - loss: 0.3434 - accuracy: 0.8580 - val_loss: 0.3663 - val_accuracy: 0.8429\n",
            "Epoch 30/100\n",
            "402/402 [==============================] - 1s 2ms/step - loss: 0.3430 - accuracy: 0.8595 - val_loss: 0.3654 - val_accuracy: 0.8455\n",
            "Epoch 31/100\n",
            "402/402 [==============================] - 1s 2ms/step - loss: 0.3426 - accuracy: 0.8590 - val_loss: 0.3659 - val_accuracy: 0.8440\n",
            "Epoch 32/100\n",
            "402/402 [==============================] - 1s 2ms/step - loss: 0.3422 - accuracy: 0.8627 - val_loss: 0.3658 - val_accuracy: 0.8429\n",
            "Epoch 33/100\n",
            "402/402 [==============================] - 1s 2ms/step - loss: 0.3417 - accuracy: 0.8609 - val_loss: 0.3648 - val_accuracy: 0.8437\n",
            "Epoch 34/100\n",
            "402/402 [==============================] - 1s 2ms/step - loss: 0.3412 - accuracy: 0.8614 - val_loss: 0.3650 - val_accuracy: 0.8455\n",
            "Epoch 35/100\n",
            "402/402 [==============================] - 1s 2ms/step - loss: 0.3410 - accuracy: 0.8634 - val_loss: 0.3648 - val_accuracy: 0.8444\n",
            "Epoch 36/100\n",
            "402/402 [==============================] - 1s 2ms/step - loss: 0.3409 - accuracy: 0.8590 - val_loss: 0.3641 - val_accuracy: 0.8451\n",
            "Epoch 37/100\n",
            "402/402 [==============================] - 1s 2ms/step - loss: 0.3407 - accuracy: 0.8595 - val_loss: 0.3638 - val_accuracy: 0.8463\n",
            "Epoch 38/100\n",
            "402/402 [==============================] - 1s 2ms/step - loss: 0.3400 - accuracy: 0.8614 - val_loss: 0.3649 - val_accuracy: 0.8437\n",
            "Epoch 39/100\n",
            "402/402 [==============================] - 1s 2ms/step - loss: 0.3396 - accuracy: 0.8614 - val_loss: 0.3647 - val_accuracy: 0.8437\n",
            "Epoch 40/100\n",
            "402/402 [==============================] - 1s 2ms/step - loss: 0.3395 - accuracy: 0.8592 - val_loss: 0.3639 - val_accuracy: 0.8463\n",
            "Epoch 41/100\n",
            "402/402 [==============================] - 1s 2ms/step - loss: 0.3395 - accuracy: 0.8629 - val_loss: 0.3629 - val_accuracy: 0.8429\n",
            "Epoch 42/100\n",
            "402/402 [==============================] - 1s 2ms/step - loss: 0.3388 - accuracy: 0.8612 - val_loss: 0.3642 - val_accuracy: 0.8437\n",
            "Epoch 43/100\n",
            "402/402 [==============================] - 1s 2ms/step - loss: 0.3390 - accuracy: 0.8617 - val_loss: 0.3639 - val_accuracy: 0.8407\n",
            "Epoch 44/100\n",
            "402/402 [==============================] - 1s 2ms/step - loss: 0.3389 - accuracy: 0.8617 - val_loss: 0.3635 - val_accuracy: 0.8429\n",
            "Epoch 45/100\n",
            "402/402 [==============================] - 1s 2ms/step - loss: 0.3380 - accuracy: 0.8607 - val_loss: 0.3629 - val_accuracy: 0.8437\n",
            "Epoch 46/100\n",
            "402/402 [==============================] - 1s 2ms/step - loss: 0.3376 - accuracy: 0.8632 - val_loss: 0.3637 - val_accuracy: 0.8425\n",
            "Epoch 47/100\n",
            "402/402 [==============================] - 1s 2ms/step - loss: 0.3375 - accuracy: 0.8619 - val_loss: 0.3633 - val_accuracy: 0.8451\n",
            "Epoch 48/100\n",
            "402/402 [==============================] - 1s 2ms/step - loss: 0.3372 - accuracy: 0.8607 - val_loss: 0.3633 - val_accuracy: 0.8451\n",
            "Epoch 49/100\n",
            "402/402 [==============================] - 1s 2ms/step - loss: 0.3373 - accuracy: 0.8604 - val_loss: 0.3619 - val_accuracy: 0.8451\n",
            "Epoch 50/100\n",
            "402/402 [==============================] - 1s 2ms/step - loss: 0.3366 - accuracy: 0.8629 - val_loss: 0.3628 - val_accuracy: 0.8455\n",
            "Epoch 51/100\n",
            "402/402 [==============================] - 1s 2ms/step - loss: 0.3370 - accuracy: 0.8624 - val_loss: 0.3629 - val_accuracy: 0.8433\n",
            "Epoch 52/100\n",
            "402/402 [==============================] - 1s 2ms/step - loss: 0.3362 - accuracy: 0.8634 - val_loss: 0.3632 - val_accuracy: 0.8399\n",
            "Epoch 53/100\n",
            "402/402 [==============================] - 1s 2ms/step - loss: 0.3361 - accuracy: 0.8642 - val_loss: 0.3635 - val_accuracy: 0.8448\n",
            "Epoch 54/100\n",
            "402/402 [==============================] - 1s 2ms/step - loss: 0.3356 - accuracy: 0.8619 - val_loss: 0.3613 - val_accuracy: 0.8437\n",
            "Epoch 55/100\n",
            "402/402 [==============================] - 1s 2ms/step - loss: 0.3353 - accuracy: 0.8612 - val_loss: 0.3615 - val_accuracy: 0.8459\n",
            "Epoch 56/100\n",
            "402/402 [==============================] - 1s 2ms/step - loss: 0.3343 - accuracy: 0.8637 - val_loss: 0.3620 - val_accuracy: 0.8425\n",
            "Epoch 57/100\n",
            "402/402 [==============================] - 1s 2ms/step - loss: 0.3346 - accuracy: 0.8634 - val_loss: 0.3627 - val_accuracy: 0.8422\n",
            "Epoch 58/100\n",
            "402/402 [==============================] - 1s 2ms/step - loss: 0.3344 - accuracy: 0.8647 - val_loss: 0.3626 - val_accuracy: 0.8448\n",
            "Epoch 59/100\n",
            "402/402 [==============================] - 1s 2ms/step - loss: 0.3342 - accuracy: 0.8624 - val_loss: 0.3615 - val_accuracy: 0.8448\n",
            "Epoch 60/100\n",
            "402/402 [==============================] - 1s 2ms/step - loss: 0.3338 - accuracy: 0.8652 - val_loss: 0.3614 - val_accuracy: 0.8459\n",
            "Epoch 61/100\n",
            "402/402 [==============================] - 1s 2ms/step - loss: 0.3336 - accuracy: 0.8629 - val_loss: 0.3620 - val_accuracy: 0.8459\n",
            "Epoch 62/100\n",
            "402/402 [==============================] - 1s 2ms/step - loss: 0.3333 - accuracy: 0.8607 - val_loss: 0.3608 - val_accuracy: 0.8437\n",
            "Epoch 63/100\n",
            "402/402 [==============================] - 1s 2ms/step - loss: 0.3323 - accuracy: 0.8614 - val_loss: 0.3616 - val_accuracy: 0.8455\n",
            "Epoch 64/100\n",
            "402/402 [==============================] - 1s 2ms/step - loss: 0.3326 - accuracy: 0.8619 - val_loss: 0.3612 - val_accuracy: 0.8437\n",
            "Epoch 65/100\n",
            "402/402 [==============================] - 1s 2ms/step - loss: 0.3325 - accuracy: 0.8624 - val_loss: 0.3619 - val_accuracy: 0.8451\n",
            "Epoch 66/100\n",
            "402/402 [==============================] - 1s 2ms/step - loss: 0.3321 - accuracy: 0.8639 - val_loss: 0.3613 - val_accuracy: 0.8437\n",
            "Epoch 67/100\n",
            "402/402 [==============================] - 1s 2ms/step - loss: 0.3320 - accuracy: 0.8629 - val_loss: 0.3603 - val_accuracy: 0.8448\n",
            "Epoch 68/100\n",
            "402/402 [==============================] - 1s 2ms/step - loss: 0.3316 - accuracy: 0.8639 - val_loss: 0.3604 - val_accuracy: 0.8440\n",
            "Epoch 69/100\n",
            "402/402 [==============================] - 1s 2ms/step - loss: 0.3310 - accuracy: 0.8627 - val_loss: 0.3608 - val_accuracy: 0.8478\n",
            "Epoch 70/100\n",
            "402/402 [==============================] - 1s 2ms/step - loss: 0.3307 - accuracy: 0.8600 - val_loss: 0.3602 - val_accuracy: 0.8485\n",
            "Epoch 71/100\n",
            "402/402 [==============================] - 1s 2ms/step - loss: 0.3314 - accuracy: 0.8634 - val_loss: 0.3602 - val_accuracy: 0.8489\n",
            "Epoch 72/100\n",
            "402/402 [==============================] - 1s 2ms/step - loss: 0.3307 - accuracy: 0.8642 - val_loss: 0.3609 - val_accuracy: 0.8433\n",
            "Epoch 73/100\n",
            "402/402 [==============================] - 1s 2ms/step - loss: 0.3304 - accuracy: 0.8595 - val_loss: 0.3602 - val_accuracy: 0.8478\n",
            "Epoch 74/100\n",
            "402/402 [==============================] - 1s 2ms/step - loss: 0.3299 - accuracy: 0.8647 - val_loss: 0.3598 - val_accuracy: 0.8444\n",
            "Epoch 75/100\n",
            "402/402 [==============================] - 1s 2ms/step - loss: 0.3304 - accuracy: 0.8634 - val_loss: 0.3616 - val_accuracy: 0.8466\n",
            "Epoch 76/100\n",
            "402/402 [==============================] - 1s 2ms/step - loss: 0.3292 - accuracy: 0.8637 - val_loss: 0.3644 - val_accuracy: 0.8444\n",
            "Epoch 77/100\n",
            "402/402 [==============================] - 1s 2ms/step - loss: 0.3303 - accuracy: 0.8619 - val_loss: 0.3603 - val_accuracy: 0.8463\n",
            "Epoch 78/100\n",
            "402/402 [==============================] - 1s 2ms/step - loss: 0.3297 - accuracy: 0.8649 - val_loss: 0.3599 - val_accuracy: 0.8489\n",
            "Epoch 79/100\n",
            "402/402 [==============================] - 1s 2ms/step - loss: 0.3297 - accuracy: 0.8624 - val_loss: 0.3597 - val_accuracy: 0.8463\n",
            "Epoch 80/100\n",
            "402/402 [==============================] - 1s 2ms/step - loss: 0.3289 - accuracy: 0.8612 - val_loss: 0.3610 - val_accuracy: 0.8463\n",
            "Epoch 81/100\n",
            "402/402 [==============================] - 1s 2ms/step - loss: 0.3281 - accuracy: 0.8639 - val_loss: 0.3624 - val_accuracy: 0.8440\n",
            "Epoch 82/100\n",
            "402/402 [==============================] - 1s 2ms/step - loss: 0.3290 - accuracy: 0.8627 - val_loss: 0.3612 - val_accuracy: 0.8459\n",
            "Epoch 83/100\n",
            "402/402 [==============================] - 1s 2ms/step - loss: 0.3288 - accuracy: 0.8624 - val_loss: 0.3600 - val_accuracy: 0.8466\n",
            "Epoch 84/100\n",
            "402/402 [==============================] - 1s 2ms/step - loss: 0.3282 - accuracy: 0.8652 - val_loss: 0.3610 - val_accuracy: 0.8455\n",
            "Epoch 85/100\n",
            "402/402 [==============================] - 1s 2ms/step - loss: 0.3280 - accuracy: 0.8672 - val_loss: 0.3603 - val_accuracy: 0.8470\n",
            "Epoch 86/100\n",
            "402/402 [==============================] - 1s 2ms/step - loss: 0.3280 - accuracy: 0.8637 - val_loss: 0.3615 - val_accuracy: 0.8466\n",
            "Epoch 87/100\n",
            "402/402 [==============================] - 1s 2ms/step - loss: 0.3289 - accuracy: 0.8619 - val_loss: 0.3608 - val_accuracy: 0.8485\n",
            "Epoch 88/100\n",
            "402/402 [==============================] - 1s 2ms/step - loss: 0.3285 - accuracy: 0.8629 - val_loss: 0.3605 - val_accuracy: 0.8474\n",
            "Epoch 89/100\n",
            "402/402 [==============================] - 1s 2ms/step - loss: 0.3280 - accuracy: 0.8637 - val_loss: 0.3612 - val_accuracy: 0.8466\n",
            "Epoch 90/100\n",
            "402/402 [==============================] - 1s 2ms/step - loss: 0.3279 - accuracy: 0.8659 - val_loss: 0.3612 - val_accuracy: 0.8459\n",
            "Epoch 91/100\n",
            "402/402 [==============================] - 1s 2ms/step - loss: 0.3273 - accuracy: 0.8634 - val_loss: 0.3624 - val_accuracy: 0.8500\n",
            "Epoch 92/100\n",
            "402/402 [==============================] - 1s 2ms/step - loss: 0.3278 - accuracy: 0.8637 - val_loss: 0.3603 - val_accuracy: 0.8451\n",
            "Epoch 93/100\n",
            "402/402 [==============================] - 1s 2ms/step - loss: 0.3279 - accuracy: 0.8654 - val_loss: 0.3602 - val_accuracy: 0.8481\n",
            "Epoch 94/100\n",
            "402/402 [==============================] - 1s 2ms/step - loss: 0.3268 - accuracy: 0.8639 - val_loss: 0.3611 - val_accuracy: 0.8489\n",
            "Epoch 95/100\n",
            "402/402 [==============================] - 1s 2ms/step - loss: 0.3275 - accuracy: 0.8642 - val_loss: 0.3618 - val_accuracy: 0.8478\n",
            "Epoch 96/100\n",
            "402/402 [==============================] - 1s 2ms/step - loss: 0.3270 - accuracy: 0.8649 - val_loss: 0.3603 - val_accuracy: 0.8478\n",
            "Epoch 97/100\n",
            "402/402 [==============================] - 1s 2ms/step - loss: 0.3271 - accuracy: 0.8657 - val_loss: 0.3607 - val_accuracy: 0.8474\n",
            "Epoch 98/100\n",
            "402/402 [==============================] - 1s 2ms/step - loss: 0.3268 - accuracy: 0.8639 - val_loss: 0.3611 - val_accuracy: 0.8478\n",
            "Epoch 99/100\n",
            "402/402 [==============================] - 1s 2ms/step - loss: 0.3266 - accuracy: 0.8627 - val_loss: 0.3610 - val_accuracy: 0.8478\n",
            "Epoch 100/100\n",
            "402/402 [==============================] - 1s 2ms/step - loss: 0.3261 - accuracy: 0.8649 - val_loss: 0.3611 - val_accuracy: 0.8459\n"
          ],
          "name": "stdout"
        }
      ]
    },
    {
      "cell_type": "code",
      "metadata": {
        "colab": {
          "base_uri": "https://localhost:8080/"
        },
        "id": "x1O4VlaPQYZr",
        "outputId": "5e75520a-d918-479f-b06e-c75585d9ef29"
      },
      "source": [
        "fitted_model.history.keys()"
      ],
      "execution_count": 13,
      "outputs": [
        {
          "output_type": "execute_result",
          "data": {
            "text/plain": [
              "dict_keys(['loss', 'accuracy', 'val_loss', 'val_accuracy'])"
            ]
          },
          "metadata": {},
          "execution_count": 13
        }
      ]
    },
    {
      "cell_type": "code",
      "metadata": {
        "colab": {
          "base_uri": "https://localhost:8080/",
          "height": 350
        },
        "id": "dDNMcbrhQxGT",
        "outputId": "919dcbc3-9d0e-4c9b-ca55-bdc5e957e9c1"
      },
      "source": [
        "plt.figure(figsize=(12,5))\n",
        "plt.plot(fitted_model.history[\"accuracy\"])\n",
        "plt.plot(fitted_model.history[\"val_accuracy\"])\n",
        "plt.xlabel(\"epoch\")\n",
        "plt.ylabel(\"accuracy\")\n",
        "plt.legend(['train','val_test'])"
      ],
      "execution_count": 16,
      "outputs": [
        {
          "output_type": "execute_result",
          "data": {
            "text/plain": [
              "<matplotlib.legend.Legend at 0x7f9dff29bc90>"
            ]
          },
          "metadata": {},
          "execution_count": 16
        },
        {
          "output_type": "display_data",
          "data": {
            "image/png": "[encoded data removed]",
            "text/plain": [
              "<Figure size 864x360 with 1 Axes>"
            ]
          },
          "metadata": {
            "needs_background": "light"
          }
        }
      ]
    },
    {
      "cell_type": "code",
      "metadata": {
        "colab": {
          "base_uri": "https://localhost:8080/"
        },
        "id": "HBQw-d1HQ3aH",
        "outputId": "9c79a93b-3c7a-43b7-fcfe-5aa4250929d1"
      },
      "source": [
        "ypred=ann.predict(xtest)\n",
        "ypred=(ypred>0.5)\n",
        "from sklearn.metrics import accuracy_score\n",
        "print(accuracy_score(ytest, ypred))"
      ],
      "execution_count": 19,
      "outputs": [
        {
          "output_type": "stream",
          "text": [
            "0.8618181818181818\n"
          ],
          "name": "stdout"
        }
      ]
    },
    {
      "cell_type": "code",
      "metadata": {
        "colab": {
          "base_uri": "https://localhost:8080/"
        },
        "id": "VjgIQcIMRHea",
        "outputId": "26805baf-4e4a-492f-e32a-41e776c45d71"
      },
      "source": [
        "from sklearn.metrics import confusion_matrix\n",
        "print(confusion_matrix(ytest, ypred))"
      ],
      "execution_count": 20,
      "outputs": [
        {
          "output_type": "stream",
          "text": [
            "[[2534  123]\n",
            " [ 333  310]]\n"
          ],
          "name": "stdout"
        }
      ]
    },
    {
      "cell_type": "code",
      "metadata": {
        "id": "KKAuFIqWRKD_"
      },
      "source": [
        ""
      ],
      "execution_count": null,
      "outputs": []
    }
  ]
}